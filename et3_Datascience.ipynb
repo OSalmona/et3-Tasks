{
  "nbformat": 4,
  "nbformat_minor": 0,
  "metadata": {
    "colab": {
      "name": "et3-Datascience.ipynb",
      "provenance": [],
      "collapsed_sections": [],
      "include_colab_link": true
    },
    "kernelspec": {
      "name": "python3",
      "display_name": "Python 3"
    },
    "language_info": {
      "name": "python"
    }
  },
  "cells": [
    {
      "cell_type": "markdown",
      "metadata": {
        "id": "view-in-github",
        "colab_type": "text"
      },
      "source": [
        "<a href=\"https://colab.research.google.com/github/OSalmona/et3-Tasks/blob/main/et3_Datascience.ipynb\" target=\"_parent\"><img src=\"https://colab.research.google.com/assets/colab-badge.svg\" alt=\"Open In Colab\"/></a>"
      ]
    },
    {
      "cell_type": "markdown",
      "source": [
        "Mount my drive to GoogleColab local workspace"
      ],
      "metadata": {
        "id": "e_UmRupX5Ex5"
      }
    },
    {
      "cell_type": "code",
      "source": [
        "from google.colab import drive\n",
        "drive.mount('/content/drive')"
      ],
      "metadata": {
        "colab": {
          "base_uri": "https://localhost:8080/"
        },
        "id": "ueN2PoH2ijVB",
        "outputId": "e79a4d3f-9392-47c2-a955-a35ddfe5dc53"
      },
      "execution_count": 50,
      "outputs": [
        {
          "output_type": "stream",
          "name": "stdout",
          "text": [
            "Drive already mounted at /content/drive; to attempt to forcibly remount, call drive.mount(\"/content/drive\", force_remount=True).\n"
          ]
        }
      ]
    },
    {
      "cell_type": "markdown",
      "source": [
        "import OS library to careate new directory in local workspace \n",
        "copy CSV file from Drive to new Directory"
      ],
      "metadata": {
        "id": "ndXqYRCm5K1X"
      }
    },
    {
      "cell_type": "code",
      "execution_count": 51,
      "metadata": {
        "colab": {
          "base_uri": "https://localhost:8080/"
        },
        "id": "fAEumcwCkspB",
        "outputId": "16f0aba7-cd5f-47b2-dd9d-6c5df60b6194"
      },
      "outputs": [
        {
          "output_type": "stream",
          "name": "stdout",
          "text": [
            "mkdir: cannot create directory ‘DataSet’: File exists\n"
          ]
        }
      ],
      "source": [
        "# mount my google drive ehre i save dataset then copy it to local workspace\n",
        "import os \n",
        "!mkdir DataSet\n",
        "!cp -r /content/drive/My\\ Drive/et3/* /content/DataSet"
      ]
    },
    {
      "cell_type": "markdown",
      "source": [
        "Import Mandatory libraies to deal with dataframes and Visulaization"
      ],
      "metadata": {
        "id": "MrEcKCOb5WbX"
      }
    },
    {
      "cell_type": "code",
      "source": [
        "import matplotlib.pyplot as plt\n",
        "import numpy as np\n",
        "from matplotlib import colors\n",
        "from matplotlib.ticker import PercentFormatter"
      ],
      "metadata": {
        "id": "LTz_fzFw80k0"
      },
      "execution_count": 52,
      "outputs": []
    },
    {
      "cell_type": "code",
      "source": [
        "import numpy as np\n",
        "import pandas as pd"
      ],
      "metadata": {
        "id": "e1QnejEvk-rp"
      },
      "execution_count": 53,
      "outputs": []
    },
    {
      "cell_type": "markdown",
      "source": [
        "Read CSV file to panda DataFrame"
      ],
      "metadata": {
        "id": "eU9vx-er5emp"
      }
    },
    {
      "cell_type": "code",
      "source": [
        "df = pd.read_csv('DataSet/drinkMenu.csv')\n",
        "print(df.shape)\n",
        "df.head()"
      ],
      "metadata": {
        "colab": {
          "base_uri": "https://localhost:8080/",
          "height": 409
        },
        "id": "fl2NYyirlbSO",
        "outputId": "c665eacc-b5e5-4994-99b7-431d85982def"
      },
      "execution_count": 54,
      "outputs": [
        {
          "output_type": "stream",
          "name": "stdout",
          "text": [
            "(242, 18)\n"
          ]
        },
        {
          "output_type": "execute_result",
          "data": {
            "text/plain": [
              "         Beverage_category       Beverage      Beverage_prep  Calories  \\\n",
              "0                   Coffee  Brewed Coffee              Short         3   \n",
              "1                   Coffee  Brewed Coffee               Tall         4   \n",
              "2                   Coffee  Brewed Coffee             Grande         5   \n",
              "3                   Coffee  Brewed Coffee              Venti         5   \n",
              "4  Classic Espresso Drinks    Caffè Latte  Short Nonfat Milk        70   \n",
              "\n",
              "   Total Fat (g)  Trans Fat (g)   Saturated Fat (g)   Sodium (mg)  \\\n",
              "0            0.1             0.0                0.0             0   \n",
              "1            0.1             0.0                0.0             0   \n",
              "2            0.1             0.0                0.0             0   \n",
              "3            0.1             0.0                0.0             0   \n",
              "4            0.1             0.1                0.0             5   \n",
              "\n",
              "    Total Carbohydrates (g)   Cholesterol (mg)   Dietary Fibre (g)  \\\n",
              "0                          5                 0                   0   \n",
              "1                         10                 0                   0   \n",
              "2                         10                 0                   0   \n",
              "3                         10                 0                   0   \n",
              "4                         75                10                   0   \n",
              "\n",
              "    Sugars (g)   Protein (g)  Vitamin A (% DV)  Vitamin C (% DV)  \\\n",
              "0            0            0.3                0%               0%   \n",
              "1            0            0.5                0%               0%   \n",
              "2            0            1.0                0%               0%   \n",
              "3            0            1.0                0%               0%   \n",
              "4            9            6.0               10%               0%   \n",
              "\n",
              "   Calcium (% DV)  Iron (% DV)  Caffeine (mg)  \n",
              "0               0%           0%           175  \n",
              "1               0%           0%           260  \n",
              "2               0%           0%           330  \n",
              "3               2%           0%           410  \n",
              "4              20%           0%            75  "
            ],
            "text/html": [
              "\n",
              "  <div id=\"df-59c7e117-90b8-4ccb-ae0e-c4e695f63589\">\n",
              "    <div class=\"colab-df-container\">\n",
              "      <div>\n",
              "<style scoped>\n",
              "    .dataframe tbody tr th:only-of-type {\n",
              "        vertical-align: middle;\n",
              "    }\n",
              "\n",
              "    .dataframe tbody tr th {\n",
              "        vertical-align: top;\n",
              "    }\n",
              "\n",
              "    .dataframe thead th {\n",
              "        text-align: right;\n",
              "    }\n",
              "</style>\n",
              "<table border=\"1\" class=\"dataframe\">\n",
              "  <thead>\n",
              "    <tr style=\"text-align: right;\">\n",
              "      <th></th>\n",
              "      <th>Beverage_category</th>\n",
              "      <th>Beverage</th>\n",
              "      <th>Beverage_prep</th>\n",
              "      <th>Calories</th>\n",
              "      <th>Total Fat (g)</th>\n",
              "      <th>Trans Fat (g)</th>\n",
              "      <th>Saturated Fat (g)</th>\n",
              "      <th>Sodium (mg)</th>\n",
              "      <th>Total Carbohydrates (g)</th>\n",
              "      <th>Cholesterol (mg)</th>\n",
              "      <th>Dietary Fibre (g)</th>\n",
              "      <th>Sugars (g)</th>\n",
              "      <th>Protein (g)</th>\n",
              "      <th>Vitamin A (% DV)</th>\n",
              "      <th>Vitamin C (% DV)</th>\n",
              "      <th>Calcium (% DV)</th>\n",
              "      <th>Iron (% DV)</th>\n",
              "      <th>Caffeine (mg)</th>\n",
              "    </tr>\n",
              "  </thead>\n",
              "  <tbody>\n",
              "    <tr>\n",
              "      <th>0</th>\n",
              "      <td>Coffee</td>\n",
              "      <td>Brewed Coffee</td>\n",
              "      <td>Short</td>\n",
              "      <td>3</td>\n",
              "      <td>0.1</td>\n",
              "      <td>0.0</td>\n",
              "      <td>0.0</td>\n",
              "      <td>0</td>\n",
              "      <td>5</td>\n",
              "      <td>0</td>\n",
              "      <td>0</td>\n",
              "      <td>0</td>\n",
              "      <td>0.3</td>\n",
              "      <td>0%</td>\n",
              "      <td>0%</td>\n",
              "      <td>0%</td>\n",
              "      <td>0%</td>\n",
              "      <td>175</td>\n",
              "    </tr>\n",
              "    <tr>\n",
              "      <th>1</th>\n",
              "      <td>Coffee</td>\n",
              "      <td>Brewed Coffee</td>\n",
              "      <td>Tall</td>\n",
              "      <td>4</td>\n",
              "      <td>0.1</td>\n",
              "      <td>0.0</td>\n",
              "      <td>0.0</td>\n",
              "      <td>0</td>\n",
              "      <td>10</td>\n",
              "      <td>0</td>\n",
              "      <td>0</td>\n",
              "      <td>0</td>\n",
              "      <td>0.5</td>\n",
              "      <td>0%</td>\n",
              "      <td>0%</td>\n",
              "      <td>0%</td>\n",
              "      <td>0%</td>\n",
              "      <td>260</td>\n",
              "    </tr>\n",
              "    <tr>\n",
              "      <th>2</th>\n",
              "      <td>Coffee</td>\n",
              "      <td>Brewed Coffee</td>\n",
              "      <td>Grande</td>\n",
              "      <td>5</td>\n",
              "      <td>0.1</td>\n",
              "      <td>0.0</td>\n",
              "      <td>0.0</td>\n",
              "      <td>0</td>\n",
              "      <td>10</td>\n",
              "      <td>0</td>\n",
              "      <td>0</td>\n",
              "      <td>0</td>\n",
              "      <td>1.0</td>\n",
              "      <td>0%</td>\n",
              "      <td>0%</td>\n",
              "      <td>0%</td>\n",
              "      <td>0%</td>\n",
              "      <td>330</td>\n",
              "    </tr>\n",
              "    <tr>\n",
              "      <th>3</th>\n",
              "      <td>Coffee</td>\n",
              "      <td>Brewed Coffee</td>\n",
              "      <td>Venti</td>\n",
              "      <td>5</td>\n",
              "      <td>0.1</td>\n",
              "      <td>0.0</td>\n",
              "      <td>0.0</td>\n",
              "      <td>0</td>\n",
              "      <td>10</td>\n",
              "      <td>0</td>\n",
              "      <td>0</td>\n",
              "      <td>0</td>\n",
              "      <td>1.0</td>\n",
              "      <td>0%</td>\n",
              "      <td>0%</td>\n",
              "      <td>2%</td>\n",
              "      <td>0%</td>\n",
              "      <td>410</td>\n",
              "    </tr>\n",
              "    <tr>\n",
              "      <th>4</th>\n",
              "      <td>Classic Espresso Drinks</td>\n",
              "      <td>Caffè Latte</td>\n",
              "      <td>Short Nonfat Milk</td>\n",
              "      <td>70</td>\n",
              "      <td>0.1</td>\n",
              "      <td>0.1</td>\n",
              "      <td>0.0</td>\n",
              "      <td>5</td>\n",
              "      <td>75</td>\n",
              "      <td>10</td>\n",
              "      <td>0</td>\n",
              "      <td>9</td>\n",
              "      <td>6.0</td>\n",
              "      <td>10%</td>\n",
              "      <td>0%</td>\n",
              "      <td>20%</td>\n",
              "      <td>0%</td>\n",
              "      <td>75</td>\n",
              "    </tr>\n",
              "  </tbody>\n",
              "</table>\n",
              "</div>\n",
              "      <button class=\"colab-df-convert\" onclick=\"convertToInteractive('df-59c7e117-90b8-4ccb-ae0e-c4e695f63589')\"\n",
              "              title=\"Convert this dataframe to an interactive table.\"\n",
              "              style=\"display:none;\">\n",
              "        \n",
              "  <svg xmlns=\"http://www.w3.org/2000/svg\" height=\"24px\"viewBox=\"0 0 24 24\"\n",
              "       width=\"24px\">\n",
              "    <path d=\"M0 0h24v24H0V0z\" fill=\"none\"/>\n",
              "    <path d=\"M18.56 5.44l.94 2.06.94-2.06 2.06-.94-2.06-.94-.94-2.06-.94 2.06-2.06.94zm-11 1L8.5 8.5l.94-2.06 2.06-.94-2.06-.94L8.5 2.5l-.94 2.06-2.06.94zm10 10l.94 2.06.94-2.06 2.06-.94-2.06-.94-.94-2.06-.94 2.06-2.06.94z\"/><path d=\"M17.41 7.96l-1.37-1.37c-.4-.4-.92-.59-1.43-.59-.52 0-1.04.2-1.43.59L10.3 9.45l-7.72 7.72c-.78.78-.78 2.05 0 2.83L4 21.41c.39.39.9.59 1.41.59.51 0 1.02-.2 1.41-.59l7.78-7.78 2.81-2.81c.8-.78.8-2.07 0-2.86zM5.41 20L4 18.59l7.72-7.72 1.47 1.35L5.41 20z\"/>\n",
              "  </svg>\n",
              "      </button>\n",
              "      \n",
              "  <style>\n",
              "    .colab-df-container {\n",
              "      display:flex;\n",
              "      flex-wrap:wrap;\n",
              "      gap: 12px;\n",
              "    }\n",
              "\n",
              "    .colab-df-convert {\n",
              "      background-color: #E8F0FE;\n",
              "      border: none;\n",
              "      border-radius: 50%;\n",
              "      cursor: pointer;\n",
              "      display: none;\n",
              "      fill: #1967D2;\n",
              "      height: 32px;\n",
              "      padding: 0 0 0 0;\n",
              "      width: 32px;\n",
              "    }\n",
              "\n",
              "    .colab-df-convert:hover {\n",
              "      background-color: #E2EBFA;\n",
              "      box-shadow: 0px 1px 2px rgba(60, 64, 67, 0.3), 0px 1px 3px 1px rgba(60, 64, 67, 0.15);\n",
              "      fill: #174EA6;\n",
              "    }\n",
              "\n",
              "    [theme=dark] .colab-df-convert {\n",
              "      background-color: #3B4455;\n",
              "      fill: #D2E3FC;\n",
              "    }\n",
              "\n",
              "    [theme=dark] .colab-df-convert:hover {\n",
              "      background-color: #434B5C;\n",
              "      box-shadow: 0px 1px 3px 1px rgba(0, 0, 0, 0.15);\n",
              "      filter: drop-shadow(0px 1px 2px rgba(0, 0, 0, 0.3));\n",
              "      fill: #FFFFFF;\n",
              "    }\n",
              "  </style>\n",
              "\n",
              "      <script>\n",
              "        const buttonEl =\n",
              "          document.querySelector('#df-59c7e117-90b8-4ccb-ae0e-c4e695f63589 button.colab-df-convert');\n",
              "        buttonEl.style.display =\n",
              "          google.colab.kernel.accessAllowed ? 'block' : 'none';\n",
              "\n",
              "        async function convertToInteractive(key) {\n",
              "          const element = document.querySelector('#df-59c7e117-90b8-4ccb-ae0e-c4e695f63589');\n",
              "          const dataTable =\n",
              "            await google.colab.kernel.invokeFunction('convertToInteractive',\n",
              "                                                     [key], {});\n",
              "          if (!dataTable) return;\n",
              "\n",
              "          const docLinkHtml = 'Like what you see? Visit the ' +\n",
              "            '<a target=\"_blank\" href=https://colab.research.google.com/notebooks/data_table.ipynb>data table notebook</a>'\n",
              "            + ' to learn more about interactive tables.';\n",
              "          element.innerHTML = '';\n",
              "          dataTable['output_type'] = 'display_data';\n",
              "          await google.colab.output.renderOutput(dataTable, element);\n",
              "          const docLink = document.createElement('div');\n",
              "          docLink.innerHTML = docLinkHtml;\n",
              "          element.appendChild(docLink);\n",
              "        }\n",
              "      </script>\n",
              "    </div>\n",
              "  </div>\n",
              "  "
            ]
          },
          "metadata": {},
          "execution_count": 54
        }
      ]
    },
    {
      "cell_type": "markdown",
      "source": [
        "We Find a problem in label of columns \n",
        "so i decided to remove all sapces"
      ],
      "metadata": {
        "id": "aeQ4flxy5lw_"
      }
    },
    {
      "cell_type": "code",
      "source": [
        "df.columns = df.columns.str.replace(' ', '')\n",
        "df.info()"
      ],
      "metadata": {
        "colab": {
          "base_uri": "https://localhost:8080/"
        },
        "id": "XnRh-A26avFI",
        "outputId": "80260b07-45d8-441b-b02b-1855a10d831d"
      },
      "execution_count": 55,
      "outputs": [
        {
          "output_type": "stream",
          "name": "stdout",
          "text": [
            "<class 'pandas.core.frame.DataFrame'>\n",
            "RangeIndex: 242 entries, 0 to 241\n",
            "Data columns (total 18 columns):\n",
            " #   Column                 Non-Null Count  Dtype  \n",
            "---  ------                 --------------  -----  \n",
            " 0   Beverage_category      242 non-null    object \n",
            " 1   Beverage               242 non-null    object \n",
            " 2   Beverage_prep          242 non-null    object \n",
            " 3   Calories               242 non-null    int64  \n",
            " 4   TotalFat(g)            242 non-null    object \n",
            " 5   TransFat(g)            242 non-null    float64\n",
            " 6   SaturatedFat(g)        242 non-null    float64\n",
            " 7   Sodium(mg)             242 non-null    int64  \n",
            " 8   TotalCarbohydrates(g)  242 non-null    int64  \n",
            " 9   Cholesterol(mg)        242 non-null    int64  \n",
            " 10  DietaryFibre(g)        242 non-null    int64  \n",
            " 11  Sugars(g)              242 non-null    int64  \n",
            " 12  Protein(g)             242 non-null    float64\n",
            " 13  VitaminA(%DV)          242 non-null    object \n",
            " 14  VitaminC(%DV)          242 non-null    object \n",
            " 15  Calcium(%DV)           242 non-null    object \n",
            " 16  Iron(%DV)              242 non-null    object \n",
            " 17  Caffeine(mg)           241 non-null    object \n",
            "dtypes: float64(3), int64(6), object(9)\n",
            "memory usage: 34.2+ KB\n"
          ]
        }
      ]
    },
    {
      "cell_type": "markdown",
      "source": [
        "Find some issuses in rows and change data types of columns"
      ],
      "metadata": {
        "id": "-8roi1gy5uOv"
      }
    },
    {
      "cell_type": "code",
      "source": [
        "df['TotalFat(g)']= df['TotalFat(g)'].str.replace(' ', '.')\n",
        "df['TotalFat(g)'] = df['TotalFat(g)'].astype(float)\n",
        "df['Sodium(mg)'] = df['Sodium(mg)'].astype(float)\n",
        "df['TotalCarbohydrates(g)'] = df['TotalCarbohydrates(g)'].astype(float)\n",
        "df['Cholesterol(mg)'] = df['Cholesterol(mg)'].astype(float)\n",
        "df['DietaryFibre(g)'] = df['DietaryFibre(g)'].astype(float)\n",
        "df['Sugars(g)'] = df['Sugars(g)'].astype(float)\n",
        "df.info()"
      ],
      "metadata": {
        "colab": {
          "base_uri": "https://localhost:8080/"
        },
        "id": "-gC4TFDWbPj_",
        "outputId": "e13a450e-06a2-4914-8c69-7dcf44dc6e48"
      },
      "execution_count": 56,
      "outputs": [
        {
          "output_type": "stream",
          "name": "stdout",
          "text": [
            "<class 'pandas.core.frame.DataFrame'>\n",
            "RangeIndex: 242 entries, 0 to 241\n",
            "Data columns (total 18 columns):\n",
            " #   Column                 Non-Null Count  Dtype  \n",
            "---  ------                 --------------  -----  \n",
            " 0   Beverage_category      242 non-null    object \n",
            " 1   Beverage               242 non-null    object \n",
            " 2   Beverage_prep          242 non-null    object \n",
            " 3   Calories               242 non-null    int64  \n",
            " 4   TotalFat(g)            242 non-null    float64\n",
            " 5   TransFat(g)            242 non-null    float64\n",
            " 6   SaturatedFat(g)        242 non-null    float64\n",
            " 7   Sodium(mg)             242 non-null    float64\n",
            " 8   TotalCarbohydrates(g)  242 non-null    float64\n",
            " 9   Cholesterol(mg)        242 non-null    float64\n",
            " 10  DietaryFibre(g)        242 non-null    float64\n",
            " 11  Sugars(g)              242 non-null    float64\n",
            " 12  Protein(g)             242 non-null    float64\n",
            " 13  VitaminA(%DV)          242 non-null    object \n",
            " 14  VitaminC(%DV)          242 non-null    object \n",
            " 15  Calcium(%DV)           242 non-null    object \n",
            " 16  Iron(%DV)              242 non-null    object \n",
            " 17  Caffeine(mg)           241 non-null    object \n",
            "dtypes: float64(9), int64(1), object(8)\n",
            "memory usage: 34.2+ KB\n"
          ]
        }
      ]
    },
    {
      "cell_type": "markdown",
      "source": [
        "We find caffeine values = varies that it mean it is change or do nnot have constant value so we can not depend on it in statistics"
      ],
      "metadata": {
        "id": "VQKer7Op53Bw"
      }
    },
    {
      "cell_type": "code",
      "source": [
        "df = df[df[\"Caffeine(mg)\"] != \"varies\"]\n",
        "df = df[df[\"Caffeine(mg)\"] != \"Varies\"]\n",
        "\n",
        "df[\"Caffeine(mg)\"] = df['Caffeine(mg)'].astype(float)\n",
        "df.info()"
      ],
      "metadata": {
        "colab": {
          "base_uri": "https://localhost:8080/"
        },
        "id": "ilK9jpzJhoxi",
        "outputId": "f3e3ff36-927d-469d-9787-2fd13c7f9fcc"
      },
      "execution_count": 57,
      "outputs": [
        {
          "output_type": "stream",
          "name": "stdout",
          "text": [
            "<class 'pandas.core.frame.DataFrame'>\n",
            "Int64Index: 220 entries, 0 to 241\n",
            "Data columns (total 18 columns):\n",
            " #   Column                 Non-Null Count  Dtype  \n",
            "---  ------                 --------------  -----  \n",
            " 0   Beverage_category      220 non-null    object \n",
            " 1   Beverage               220 non-null    object \n",
            " 2   Beverage_prep          220 non-null    object \n",
            " 3   Calories               220 non-null    int64  \n",
            " 4   TotalFat(g)            220 non-null    float64\n",
            " 5   TransFat(g)            220 non-null    float64\n",
            " 6   SaturatedFat(g)        220 non-null    float64\n",
            " 7   Sodium(mg)             220 non-null    float64\n",
            " 8   TotalCarbohydrates(g)  220 non-null    float64\n",
            " 9   Cholesterol(mg)        220 non-null    float64\n",
            " 10  DietaryFibre(g)        220 non-null    float64\n",
            " 11  Sugars(g)              220 non-null    float64\n",
            " 12  Protein(g)             220 non-null    float64\n",
            " 13  VitaminA(%DV)          220 non-null    object \n",
            " 14  VitaminC(%DV)          220 non-null    object \n",
            " 15  Calcium(%DV)           220 non-null    object \n",
            " 16  Iron(%DV)              220 non-null    object \n",
            " 17  Caffeine(mg)           219 non-null    float64\n",
            "dtypes: float64(10), int64(1), object(7)\n",
            "memory usage: 32.7+ KB\n"
          ]
        }
      ]
    },
    {
      "cell_type": "markdown",
      "source": [
        "Convert all numaric column to float or int"
      ],
      "metadata": {
        "id": "5FYZG5LG6H8Y"
      }
    },
    {
      "cell_type": "code",
      "source": [
        "df['VitaminA(%DV)']= df['VitaminA(%DV)'].str.replace('%', '')\n",
        "df['VitaminC(%DV)']= df['VitaminC(%DV)'].str.replace('%', '')\n",
        "df['Calcium(%DV)']= df['Calcium(%DV)'].str.replace('%', '')\n",
        "df['Iron(%DV)']= df['Iron(%DV)'].str.replace('%', '')\n",
        "df['Iron(%DV)']= df['Iron(%DV)'].str.replace('.00', '')\n",
        "\n",
        "df['VitaminA(%DV)']= df['VitaminA(%DV)'].astype(int)\n",
        "df['VitaminC(%DV)']= df['VitaminC(%DV)'].astype(int)\n",
        "df['Calcium(%DV)']= df['Calcium(%DV)'].astype(int)\n",
        "df['Iron(%DV)']= df['Iron(%DV)'].astype(int)\n",
        "\n",
        "df.info()"
      ],
      "metadata": {
        "colab": {
          "base_uri": "https://localhost:8080/"
        },
        "id": "TvEzZ5bvmWdB",
        "outputId": "1f92d6a0-a9ad-49cd-b4f8-2cf7765d9a62"
      },
      "execution_count": 58,
      "outputs": [
        {
          "output_type": "stream",
          "name": "stdout",
          "text": [
            "<class 'pandas.core.frame.DataFrame'>\n",
            "Int64Index: 220 entries, 0 to 241\n",
            "Data columns (total 18 columns):\n",
            " #   Column                 Non-Null Count  Dtype  \n",
            "---  ------                 --------------  -----  \n",
            " 0   Beverage_category      220 non-null    object \n",
            " 1   Beverage               220 non-null    object \n",
            " 2   Beverage_prep          220 non-null    object \n",
            " 3   Calories               220 non-null    int64  \n",
            " 4   TotalFat(g)            220 non-null    float64\n",
            " 5   TransFat(g)            220 non-null    float64\n",
            " 6   SaturatedFat(g)        220 non-null    float64\n",
            " 7   Sodium(mg)             220 non-null    float64\n",
            " 8   TotalCarbohydrates(g)  220 non-null    float64\n",
            " 9   Cholesterol(mg)        220 non-null    float64\n",
            " 10  DietaryFibre(g)        220 non-null    float64\n",
            " 11  Sugars(g)              220 non-null    float64\n",
            " 12  Protein(g)             220 non-null    float64\n",
            " 13  VitaminA(%DV)          220 non-null    int64  \n",
            " 14  VitaminC(%DV)          220 non-null    int64  \n",
            " 15  Calcium(%DV)           220 non-null    int64  \n",
            " 16  Iron(%DV)              220 non-null    int64  \n",
            " 17  Caffeine(mg)           219 non-null    float64\n",
            "dtypes: float64(10), int64(5), object(3)\n",
            "memory usage: 32.7+ KB\n"
          ]
        },
        {
          "output_type": "stream",
          "name": "stderr",
          "text": [
            "/usr/local/lib/python3.7/dist-packages/ipykernel_launcher.py:5: FutureWarning: The default value of regex will change from True to False in a future version.\n",
            "  \"\"\"\n"
          ]
        }
      ]
    },
    {
      "cell_type": "markdown",
      "source": [
        "Check for naiive duplicates in dataset"
      ],
      "metadata": {
        "id": "HcU1KoKj6PRf"
      }
    },
    {
      "cell_type": "code",
      "source": [
        "# Check if we Have Duplicated row so we should remove it\n",
        "# Remove Duplicate for full rows\n",
        "print(\"data shape before remove dublication , \", df.shape)\n",
        "df = df.drop_duplicates()\n",
        "print(\"data shape after remove dublication , \", df.shape)\n",
        "# Conclusion we don't have duplicated rows"
      ],
      "metadata": {
        "colab": {
          "base_uri": "https://localhost:8080/"
        },
        "id": "sbKqI3T-ln9l",
        "outputId": "30e520fd-7ec9-4d1e-ffd0-8217e750f5f7"
      },
      "execution_count": 59,
      "outputs": [
        {
          "output_type": "stream",
          "name": "stdout",
          "text": [
            "data shape before remove dublication ,  (220, 18)\n",
            "data shape after remove dublication ,  (220, 18)\n"
          ]
        }
      ]
    },
    {
      "cell_type": "markdown",
      "source": [
        "Check for null value we found only one so we can remove it or fill it \n",
        "i decided to fill it by zero"
      ],
      "metadata": {
        "id": "E5j7GGpb6UE4"
      }
    },
    {
      "cell_type": "code",
      "source": [
        "# Full null values\n",
        "# We will take an average of column in for each sub gateogry\n",
        "# df.iloc[row_start:row_end , col_start, col_end]\n",
        "# First We will check all coumn summetion of his null values\n",
        "\n",
        "# null in caffeine column only\n",
        "\n",
        "df[\"Caffeine(mg)\"] = df[\"Caffeine(mg)\"].fillna(0)\n"
      ],
      "metadata": {
        "id": "vdM4ahu0mtwO"
      },
      "execution_count": 60,
      "outputs": []
    },
    {
      "cell_type": "code",
      "source": [
        "# df = df.drop(labels=['Beverage_category','Beverage_prep', 'TransFat(g)','SaturatedFat(g)',], axis=1)\n",
        "df.info()"
      ],
      "metadata": {
        "colab": {
          "base_uri": "https://localhost:8080/"
        },
        "id": "wri2rg6FVpK_",
        "outputId": "da8befac-32e2-4f54-8575-fe27414ccf95"
      },
      "execution_count": 61,
      "outputs": [
        {
          "output_type": "stream",
          "name": "stdout",
          "text": [
            "<class 'pandas.core.frame.DataFrame'>\n",
            "Int64Index: 220 entries, 0 to 241\n",
            "Data columns (total 18 columns):\n",
            " #   Column                 Non-Null Count  Dtype  \n",
            "---  ------                 --------------  -----  \n",
            " 0   Beverage_category      220 non-null    object \n",
            " 1   Beverage               220 non-null    object \n",
            " 2   Beverage_prep          220 non-null    object \n",
            " 3   Calories               220 non-null    int64  \n",
            " 4   TotalFat(g)            220 non-null    float64\n",
            " 5   TransFat(g)            220 non-null    float64\n",
            " 6   SaturatedFat(g)        220 non-null    float64\n",
            " 7   Sodium(mg)             220 non-null    float64\n",
            " 8   TotalCarbohydrates(g)  220 non-null    float64\n",
            " 9   Cholesterol(mg)        220 non-null    float64\n",
            " 10  DietaryFibre(g)        220 non-null    float64\n",
            " 11  Sugars(g)              220 non-null    float64\n",
            " 12  Protein(g)             220 non-null    float64\n",
            " 13  VitaminA(%DV)          220 non-null    int64  \n",
            " 14  VitaminC(%DV)          220 non-null    int64  \n",
            " 15  Calcium(%DV)           220 non-null    int64  \n",
            " 16  Iron(%DV)              220 non-null    int64  \n",
            " 17  Caffeine(mg)           220 non-null    float64\n",
            "dtypes: float64(10), int64(5), object(3)\n",
            "memory usage: 32.7+ KB\n"
          ]
        }
      ]
    },
    {
      "cell_type": "markdown",
      "source": [
        "i can obcerve that each drink can preates with different values . not normal so i decided to keep only one which have highest calories and sugar and remove other column which we won't use in this project"
      ],
      "metadata": {
        "id": "om1geqDO6eHA"
      }
    },
    {
      "cell_type": "code",
      "source": [
        "# i think we have duplicated rows by Beverage_category / Beverage / Beverage_prep\n",
        "# We will keep only max row depend on calories - sugar\n",
        "df2 = df.groupby(['Beverage_category','Beverage','Beverage_prep'])['Calories','Sugars(g)'].max().reset_index()\n",
        "df2.head(10)"
      ],
      "metadata": {
        "colab": {
          "base_uri": "https://localhost:8080/",
          "height": 418
        },
        "id": "706zUAfjkcjh",
        "outputId": "eaefaf0f-11af-48e4-b72c-28a27d3042f5"
      },
      "execution_count": 62,
      "outputs": [
        {
          "output_type": "stream",
          "name": "stderr",
          "text": [
            "/usr/local/lib/python3.7/dist-packages/ipykernel_launcher.py:3: FutureWarning: Indexing with multiple keys (implicitly converted to a tuple of keys) will be deprecated, use a list instead.\n",
            "  This is separate from the ipykernel package so we can avoid doing imports until\n"
          ]
        },
        {
          "output_type": "execute_result",
          "data": {
            "text/plain": [
              "         Beverage_category         Beverage       Beverage_prep  Calories  \\\n",
              "0  Classic Espresso Drinks  Caffè Americano              Grande        15   \n",
              "1  Classic Espresso Drinks  Caffè Americano               Short         5   \n",
              "2  Classic Espresso Drinks  Caffè Americano                Tall        10   \n",
              "3  Classic Espresso Drinks  Caffè Americano               Venti        25   \n",
              "4  Classic Espresso Drinks      Caffè Latte             2% Milk       240   \n",
              "5  Classic Espresso Drinks      Caffè Latte  Grande Nonfat Milk       130   \n",
              "6  Classic Espresso Drinks      Caffè Latte   Short Nonfat Milk        70   \n",
              "7  Classic Espresso Drinks      Caffè Latte             Soymilk       190   \n",
              "8  Classic Espresso Drinks      Caffè Latte    Tall Nonfat Milk       100   \n",
              "9  Classic Espresso Drinks      Caffè Latte   Venti Nonfat Milk       170   \n",
              "\n",
              "   Sugars(g)  \n",
              "0        0.0  \n",
              "1        0.0  \n",
              "2        0.0  \n",
              "3        0.0  \n",
              "4       22.0  \n",
              "5       18.0  \n",
              "6        9.0  \n",
              "7       11.0  \n",
              "8       14.0  \n",
              "9       23.0  "
            ],
            "text/html": [
              "\n",
              "  <div id=\"df-d13175aa-2298-4cd2-9979-7f62e751fc96\">\n",
              "    <div class=\"colab-df-container\">\n",
              "      <div>\n",
              "<style scoped>\n",
              "    .dataframe tbody tr th:only-of-type {\n",
              "        vertical-align: middle;\n",
              "    }\n",
              "\n",
              "    .dataframe tbody tr th {\n",
              "        vertical-align: top;\n",
              "    }\n",
              "\n",
              "    .dataframe thead th {\n",
              "        text-align: right;\n",
              "    }\n",
              "</style>\n",
              "<table border=\"1\" class=\"dataframe\">\n",
              "  <thead>\n",
              "    <tr style=\"text-align: right;\">\n",
              "      <th></th>\n",
              "      <th>Beverage_category</th>\n",
              "      <th>Beverage</th>\n",
              "      <th>Beverage_prep</th>\n",
              "      <th>Calories</th>\n",
              "      <th>Sugars(g)</th>\n",
              "    </tr>\n",
              "  </thead>\n",
              "  <tbody>\n",
              "    <tr>\n",
              "      <th>0</th>\n",
              "      <td>Classic Espresso Drinks</td>\n",
              "      <td>Caffè Americano</td>\n",
              "      <td>Grande</td>\n",
              "      <td>15</td>\n",
              "      <td>0.0</td>\n",
              "    </tr>\n",
              "    <tr>\n",
              "      <th>1</th>\n",
              "      <td>Classic Espresso Drinks</td>\n",
              "      <td>Caffè Americano</td>\n",
              "      <td>Short</td>\n",
              "      <td>5</td>\n",
              "      <td>0.0</td>\n",
              "    </tr>\n",
              "    <tr>\n",
              "      <th>2</th>\n",
              "      <td>Classic Espresso Drinks</td>\n",
              "      <td>Caffè Americano</td>\n",
              "      <td>Tall</td>\n",
              "      <td>10</td>\n",
              "      <td>0.0</td>\n",
              "    </tr>\n",
              "    <tr>\n",
              "      <th>3</th>\n",
              "      <td>Classic Espresso Drinks</td>\n",
              "      <td>Caffè Americano</td>\n",
              "      <td>Venti</td>\n",
              "      <td>25</td>\n",
              "      <td>0.0</td>\n",
              "    </tr>\n",
              "    <tr>\n",
              "      <th>4</th>\n",
              "      <td>Classic Espresso Drinks</td>\n",
              "      <td>Caffè Latte</td>\n",
              "      <td>2% Milk</td>\n",
              "      <td>240</td>\n",
              "      <td>22.0</td>\n",
              "    </tr>\n",
              "    <tr>\n",
              "      <th>5</th>\n",
              "      <td>Classic Espresso Drinks</td>\n",
              "      <td>Caffè Latte</td>\n",
              "      <td>Grande Nonfat Milk</td>\n",
              "      <td>130</td>\n",
              "      <td>18.0</td>\n",
              "    </tr>\n",
              "    <tr>\n",
              "      <th>6</th>\n",
              "      <td>Classic Espresso Drinks</td>\n",
              "      <td>Caffè Latte</td>\n",
              "      <td>Short Nonfat Milk</td>\n",
              "      <td>70</td>\n",
              "      <td>9.0</td>\n",
              "    </tr>\n",
              "    <tr>\n",
              "      <th>7</th>\n",
              "      <td>Classic Espresso Drinks</td>\n",
              "      <td>Caffè Latte</td>\n",
              "      <td>Soymilk</td>\n",
              "      <td>190</td>\n",
              "      <td>11.0</td>\n",
              "    </tr>\n",
              "    <tr>\n",
              "      <th>8</th>\n",
              "      <td>Classic Espresso Drinks</td>\n",
              "      <td>Caffè Latte</td>\n",
              "      <td>Tall Nonfat Milk</td>\n",
              "      <td>100</td>\n",
              "      <td>14.0</td>\n",
              "    </tr>\n",
              "    <tr>\n",
              "      <th>9</th>\n",
              "      <td>Classic Espresso Drinks</td>\n",
              "      <td>Caffè Latte</td>\n",
              "      <td>Venti Nonfat Milk</td>\n",
              "      <td>170</td>\n",
              "      <td>23.0</td>\n",
              "    </tr>\n",
              "  </tbody>\n",
              "</table>\n",
              "</div>\n",
              "      <button class=\"colab-df-convert\" onclick=\"convertToInteractive('df-d13175aa-2298-4cd2-9979-7f62e751fc96')\"\n",
              "              title=\"Convert this dataframe to an interactive table.\"\n",
              "              style=\"display:none;\">\n",
              "        \n",
              "  <svg xmlns=\"http://www.w3.org/2000/svg\" height=\"24px\"viewBox=\"0 0 24 24\"\n",
              "       width=\"24px\">\n",
              "    <path d=\"M0 0h24v24H0V0z\" fill=\"none\"/>\n",
              "    <path d=\"M18.56 5.44l.94 2.06.94-2.06 2.06-.94-2.06-.94-.94-2.06-.94 2.06-2.06.94zm-11 1L8.5 8.5l.94-2.06 2.06-.94-2.06-.94L8.5 2.5l-.94 2.06-2.06.94zm10 10l.94 2.06.94-2.06 2.06-.94-2.06-.94-.94-2.06-.94 2.06-2.06.94z\"/><path d=\"M17.41 7.96l-1.37-1.37c-.4-.4-.92-.59-1.43-.59-.52 0-1.04.2-1.43.59L10.3 9.45l-7.72 7.72c-.78.78-.78 2.05 0 2.83L4 21.41c.39.39.9.59 1.41.59.51 0 1.02-.2 1.41-.59l7.78-7.78 2.81-2.81c.8-.78.8-2.07 0-2.86zM5.41 20L4 18.59l7.72-7.72 1.47 1.35L5.41 20z\"/>\n",
              "  </svg>\n",
              "      </button>\n",
              "      \n",
              "  <style>\n",
              "    .colab-df-container {\n",
              "      display:flex;\n",
              "      flex-wrap:wrap;\n",
              "      gap: 12px;\n",
              "    }\n",
              "\n",
              "    .colab-df-convert {\n",
              "      background-color: #E8F0FE;\n",
              "      border: none;\n",
              "      border-radius: 50%;\n",
              "      cursor: pointer;\n",
              "      display: none;\n",
              "      fill: #1967D2;\n",
              "      height: 32px;\n",
              "      padding: 0 0 0 0;\n",
              "      width: 32px;\n",
              "    }\n",
              "\n",
              "    .colab-df-convert:hover {\n",
              "      background-color: #E2EBFA;\n",
              "      box-shadow: 0px 1px 2px rgba(60, 64, 67, 0.3), 0px 1px 3px 1px rgba(60, 64, 67, 0.15);\n",
              "      fill: #174EA6;\n",
              "    }\n",
              "\n",
              "    [theme=dark] .colab-df-convert {\n",
              "      background-color: #3B4455;\n",
              "      fill: #D2E3FC;\n",
              "    }\n",
              "\n",
              "    [theme=dark] .colab-df-convert:hover {\n",
              "      background-color: #434B5C;\n",
              "      box-shadow: 0px 1px 3px 1px rgba(0, 0, 0, 0.15);\n",
              "      filter: drop-shadow(0px 1px 2px rgba(0, 0, 0, 0.3));\n",
              "      fill: #FFFFFF;\n",
              "    }\n",
              "  </style>\n",
              "\n",
              "      <script>\n",
              "        const buttonEl =\n",
              "          document.querySelector('#df-d13175aa-2298-4cd2-9979-7f62e751fc96 button.colab-df-convert');\n",
              "        buttonEl.style.display =\n",
              "          google.colab.kernel.accessAllowed ? 'block' : 'none';\n",
              "\n",
              "        async function convertToInteractive(key) {\n",
              "          const element = document.querySelector('#df-d13175aa-2298-4cd2-9979-7f62e751fc96');\n",
              "          const dataTable =\n",
              "            await google.colab.kernel.invokeFunction('convertToInteractive',\n",
              "                                                     [key], {});\n",
              "          if (!dataTable) return;\n",
              "\n",
              "          const docLinkHtml = 'Like what you see? Visit the ' +\n",
              "            '<a target=\"_blank\" href=https://colab.research.google.com/notebooks/data_table.ipynb>data table notebook</a>'\n",
              "            + ' to learn more about interactive tables.';\n",
              "          element.innerHTML = '';\n",
              "          dataTable['output_type'] = 'display_data';\n",
              "          await google.colab.output.renderOutput(dataTable, element);\n",
              "          const docLink = document.createElement('div');\n",
              "          docLink.innerHTML = docLinkHtml;\n",
              "          element.appendChild(docLink);\n",
              "        }\n",
              "      </script>\n",
              "    </div>\n",
              "  </div>\n",
              "  "
            ]
          },
          "metadata": {},
          "execution_count": 62
        }
      ]
    },
    {
      "cell_type": "code",
      "source": [
        "df2.info()"
      ],
      "metadata": {
        "colab": {
          "base_uri": "https://localhost:8080/"
        },
        "id": "CW099yII4eiq",
        "outputId": "7bd165e7-7577-41cd-8951-87f71eee28f7"
      },
      "execution_count": 63,
      "outputs": [
        {
          "output_type": "stream",
          "name": "stdout",
          "text": [
            "<class 'pandas.core.frame.DataFrame'>\n",
            "RangeIndex: 136 entries, 0 to 135\n",
            "Data columns (total 5 columns):\n",
            " #   Column             Non-Null Count  Dtype  \n",
            "---  ------             --------------  -----  \n",
            " 0   Beverage_category  136 non-null    object \n",
            " 1   Beverage           136 non-null    object \n",
            " 2   Beverage_prep      136 non-null    object \n",
            " 3   Calories           136 non-null    int64  \n",
            " 4   Sugars(g)          136 non-null    float64\n",
            "dtypes: float64(1), int64(1), object(3)\n",
            "memory usage: 5.4+ KB\n"
          ]
        }
      ]
    },
    {
      "cell_type": "markdown",
      "source": [
        "Visulaize only top drinks which have higest calories"
      ],
      "metadata": {
        "id": "4LGjFAqi6vrU"
      }
    },
    {
      "cell_type": "code",
      "source": [
        "# series = pd.Series(3 * np.random.rand(4), index=[\"a\", \"b\", \"c\", \"d\"], name=\"series\")\n",
        "temp = df2.groupby('Beverage')['Calories'].max().reset_index()\n",
        "# temp.\n",
        "temp = temp.sort_values(by=\"Calories\",ascending=False)\n",
        "temp = temp.head(5)\n",
        "\n",
        "\n",
        "temp.plot(kind = 'scatter', x = 'Beverage', y = 'Calories')\n",
        "plt.xticks(rotation=60)\n",
        "\n",
        "plt.show()\n",
        "\n",
        "#  drink has the highest calories from the dataset \n",
        "# White Chocolate Mocha (Without Whipped Cream)"
      ],
      "metadata": {
        "colab": {
          "base_uri": "https://localhost:8080/",
          "height": 491
        },
        "id": "hgmPQKrNuYcB",
        "outputId": "35265311-c2b0-41cd-f46a-5aa3fcdddcf0"
      },
      "execution_count": 64,
      "outputs": [
        {
          "output_type": "display_data",
          "data": {
            "text/plain": [
              "<Figure size 432x288 with 1 Axes>"
            ],
            "image/png": "[encoded data removed]"
          },
          "metadata": {
            "needs_background": "light"
          }
        }
      ]
    },
    {
      "cell_type": "markdown",
      "source": [
        "Visulaize only top drinks which have higest Sugar"
      ],
      "metadata": {
        "id": "GQ1kNDiw64Tp"
      }
    },
    {
      "cell_type": "code",
      "source": [
        "temp = df2.groupby('Beverage')['Sugars(g)'].max().reset_index()\n",
        "# temp.\n",
        "temp = temp.sort_values(by=\"Sugars(g)\",ascending=False)\n",
        "temp = temp.head(5)\n",
        "\n",
        "\n",
        "temp.plot(kind = 'scatter', x = 'Beverage', y = 'Sugars(g)')\n",
        "plt.xticks(rotation=60)\n",
        "\n",
        "plt.show()\n",
        "\n",
        "#  drink has the highest Sugar from the dataset \n",
        "# Lava Chip (without whipped Cream)"
      ],
      "metadata": {
        "colab": {
          "base_uri": "https://localhost:8080/",
          "height": 491
        },
        "id": "jjUk3MQb0wHL",
        "outputId": "f26acae0-fcbc-45b5-94e1-8ddf1da9054d"
      },
      "execution_count": 65,
      "outputs": [
        {
          "output_type": "display_data",
          "data": {
            "text/plain": [
              "<Figure size 432x288 with 1 Axes>"
            ],
            "image/png": "[encoded data removed]"
          },
          "metadata": {
            "needs_background": "light"
          }
        }
      ]
    },
    {
      "cell_type": "code",
      "source": [
        ""
      ],
      "metadata": {
        "id": "fvSG_-Jj7GU1"
      },
      "execution_count": 65,
      "outputs": []
    }
  ]
}