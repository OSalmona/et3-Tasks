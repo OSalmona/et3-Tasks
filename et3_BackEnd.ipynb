{
  "nbformat": 4,
  "nbformat_minor": 0,
  "metadata": {
    "colab": {
      "name": "et3-BackEnd.ipynb",
      "provenance": [],
      "authorship_tag": "ABX9TyPoXOE0ARe2WtFyzAjrFrKL",
      "include_colab_link": true
    },
    "kernelspec": {
      "name": "python3",
      "display_name": "Python 3"
    },
    "language_info": {
      "name": "python"
    }
  },
  "cells": [
    {
      "cell_type": "markdown",
      "metadata": {
        "id": "view-in-github",
        "colab_type": "text"
      },
      "source": [
        "<a href=\"https://colab.research.google.com/github/OSalmona/et3-Tasks/blob/Back-end/et3_BackEnd.ipynb\" target=\"_parent\"><img src=\"https://colab.research.google.com/assets/colab-badge.svg\" alt=\"Open In Colab\"/></a>"
      ]
    },
    {
      "cell_type": "code",
      "source": [
        "import numpy as np\n",
        "import uuid\n",
        "import json"
      ],
      "metadata": {
        "id": "IbByCEGruhgk"
      },
      "execution_count": 1,
      "outputs": []
    },
    {
      "cell_type": "code",
      "execution_count": 2,
      "metadata": {
        "id": "yqDBhqfkeVty"
      },
      "outputs": [],
      "source": [
        "class Item:\n",
        "  def __init__(self,name, barcode,price,quantity):\n",
        "    # self.id = uuid.uuid4()\n",
        "    self.name = name\n",
        "    self.barcode = barcode\n",
        "    self.price = price\n",
        "    self.quantity = quantity\n",
        "\n",
        "  def EditItem(self , Item):\n",
        "    self.name = Item.name\n",
        "    self.barcode = Item.barcode\n",
        "    self.price = Item.price\n",
        "    self.quantity = Item.quantity\n",
        "\n",
        "  def GetItem():\n",
        "    return Item"
      ]
    },
    {
      "cell_type": "code",
      "source": [
        "class Order:\n",
        "  def __init__(self, name ,barcode,quantity,unitPrice,totalPrice ):\n",
        "    # self.id = uuid.uuid4()\n",
        "    self.name = name\n",
        "    self.barcode = barcode\n",
        "    self.quantity = quantity\n",
        "    self.unitPrice = unitPrice\n",
        "    self.totalPrice = totalPrice\n",
        "\n",
        "  def EditOrder(self,Order):\n",
        "    self.name = Order.name\n",
        "    self.barcode = Order.barcode\n",
        "    self.quantity = Order.quantity\n",
        "    self.unitPrice = Order.unitPrice\n",
        "    self.totalPrice = Order.totalPrice\n",
        "\n",
        "  def GetOrder():\n",
        "    return Order"
      ],
      "metadata": {
        "id": "SrTJf_V1sHPB"
      },
      "execution_count": 3,
      "outputs": []
    },
    {
      "cell_type": "code",
      "source": [
        "class Empolyee:\n",
        "  def __init__(self, id, name ,joinedDate):\n",
        "    # self.id = uuid.uuid4()\n",
        "    self.name = name\n",
        "    self.joinedDate = joinedDate\n",
        "  def EditEmplyee(self,Empolyee):\n",
        "    self.name = Empolyee.name\n",
        "    self.joinedDate = Empolyee.joinedDate "
      ],
      "metadata": {
        "id": "alx04RVxspQC"
      },
      "execution_count": 4,
      "outputs": []
    },
    {
      "cell_type": "code",
      "source": [
        "def addItem(items,name,barcode,price,quantity):\n",
        "  item = Item(name,barcode,price,quantity)\n",
        "  items.append(item)\n",
        "  return items"
      ],
      "metadata": {
        "id": "p8dajE-hxqQU"
      },
      "execution_count": 22,
      "outputs": []
    },
    {
      "cell_type": "code",
      "source": [
        "def GetAllItems(items):\n",
        "  json_str = json.dumps([ob.__dict__ for ob in items])\n",
        "  return json_str"
      ],
      "metadata": {
        "id": "PPrvUNje1M7T"
      },
      "execution_count": 23,
      "outputs": []
    },
    {
      "cell_type": "code",
      "source": [
        "def EditItem(items,name,barcode,price,quantity):\n",
        "  for i in items:\n",
        "    if barcode == i.barcode:\n",
        "      i.name = name\n",
        "      i.price = price\n",
        "      i.quantity = quantity\n",
        "  return items"
      ],
      "metadata": {
        "id": "WPmsxdJ_119O"
      },
      "execution_count": 24,
      "outputs": []
    },
    {
      "cell_type": "code",
      "source": [
        "  items = []\n",
        "  items = addItem(items,'Tea',123321,10,50)\n",
        "  items = addItem(items,'Tea W Milk',1233654,15,60)\n",
        "  items = addItem(items,'Coffee',123456321,20,70)\n",
        "  items = addItem(items,'Coffee light',1233245321,30,80)"
      ],
      "metadata": {
        "id": "fWEppqGm3fUb"
      },
      "execution_count": 25,
      "outputs": []
    },
    {
      "cell_type": "code",
      "source": [
        "def addOrder(orders,name ,barcode,quantity,unitPrice,totalPrice):\n",
        "  order = Order(name ,barcode,quantity,unitPrice,totalPrice)\n",
        "  orders.append(order)\n",
        "  return orders"
      ],
      "metadata": {
        "id": "jITr5rGq4UIO"
      },
      "execution_count": 26,
      "outputs": []
    },
    {
      "cell_type": "code",
      "source": [
        "  orders = []\n",
        "  orders = addOrder(orders,'Tea',123321,1,50,50)\n",
        "  orders = addOrder(orders,'Tea W Milk',1233654,2,120,250)\n",
        "  orders = addOrder(orders,'Coffee',123456321,4,280,680)\n",
        "  orders = addOrder(orders,'Coffee light',1233245321,1,20,20)"
      ],
      "metadata": {
        "id": "9MUM_iWi4mhP"
      },
      "execution_count": 27,
      "outputs": []
    },
    {
      "cell_type": "code",
      "source": [
        "def GetAllOrders(orders):\n",
        "  json_str= json.dumps([ob.__dict__ for ob in orders])\n",
        "  return json_str"
      ],
      "metadata": {
        "id": "m4OAVGn85_LM"
      },
      "execution_count": 28,
      "outputs": []
    },
    {
      "cell_type": "code",
      "source": [
        "def EditOrder(orders,name ,barcode,quantity,unitPrice,totalPrice):\n",
        "  for i in orders:\n",
        "    if barcode == i.barcode:\n",
        "      i.name = name\n",
        "      i.quantity = quantity\n",
        "      i.unitPrice = unitPrice\n",
        "      i.totalPrice = totalPrice\n",
        "  return orders"
      ],
      "metadata": {
        "id": "xlxbiTDz9CAj"
      },
      "execution_count": 31,
      "outputs": []
    },
    {
      "cell_type": "code",
      "source": [
        "def main(event , items , orders , employee):\n",
        "  if event == 1 :\n",
        "    print(\"All Items\")\n",
        "    print(GetAllItems(items))\n",
        "  if event ==2 :\n",
        "    EditItem(items,'TeaNew',123321,34,22)\n",
        "    print(\"Edit item sucessfully\")\n",
        "  if event == 3:\n",
        "    print(\"All Orders in one recipt\")\n",
        "    print(GetAllOrders(orders))\n",
        "  if event == 4:\n",
        "    EditOrder(orders,\"Tea\",123321,55,100,150)\n",
        "    print(\"Edit Order Item sucessfully\")\n",
        "  # print(json.dumps(items[0].__dict__))\n",
        "main(4,items,orders,[])"
      ],
      "metadata": {
        "colab": {
          "base_uri": "https://localhost:8080/"
        },
        "id": "XG2VYf9ZtNJI",
        "outputId": "490f7739-73ab-4b9b-8139-7f1e4fcc64aa"
      },
      "execution_count": 33,
      "outputs": [
        {
          "output_type": "stream",
          "name": "stdout",
          "text": [
            "Edit Order Item sucessfully\n"
          ]
        }
      ]
    },
    {
      "cell_type": "code",
      "source": [
        ""
      ],
      "metadata": {
        "id": "n5Lf5_j6y2ms"
      },
      "execution_count": null,
      "outputs": []
    }
  ]
}