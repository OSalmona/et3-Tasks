{
  "nbformat": 4,
  "nbformat_minor": 0,
  "metadata": {
    "colab": {
      "name": "et3-Database.ipynb",
      "provenance": [],
      "collapsed_sections": []
    },
    "kernelspec": {
      "name": "python3",
      "display_name": "Python 3"
    },
    "language_info": {
      "name": "python"
    }
  },
  "cells": [
    {
      "cell_type": "markdown",
      "source": [
        "Import CSV frile from My Google Drive to colab local workspace"
      ],
      "metadata": {
        "id": "kLmquAukXkUJ"
      }
    },
    {
      "cell_type": "code",
      "execution_count": null,
      "metadata": {
        "id": "kJnfjuk64pXg"
      },
      "outputs": [],
      "source": [
        "import os \n",
        "!mkdir DataSet\n",
        "!cp -r /content/drive/My\\ Drive/et3/* /content/DataSet"
      ]
    },
    {
      "cell_type": "markdown",
      "source": [
        "Import mandatory libraries to work by it"
      ],
      "metadata": {
        "id": "DduKz1rGXx9w"
      }
    },
    {
      "cell_type": "code",
      "source": [
        "import numpy as np\n",
        "import pandas as pd"
      ],
      "metadata": {
        "id": "1TTik78H5BU_"
      },
      "execution_count": null,
      "outputs": []
    },
    {
      "cell_type": "markdown",
      "source": [
        "Read file and Check it's properties"
      ],
      "metadata": {
        "id": "z1EN_ZyGX7Zh"
      }
    },
    {
      "cell_type": "code",
      "source": [
        "df = pd.read_csv('DataSet/drinkMenu.csv')\n",
        "print(df.shape)\n",
        "df.head()"
      ],
      "metadata": {
        "colab": {
          "base_uri": "https://localhost:8080/",
          "height": 409
        },
        "id": "YRoEncfq49ME",
        "outputId": "aeded63b-d4a9-4f66-9a1c-183eabadf548"
      },
      "execution_count": 62,
      "outputs": [
        {
          "output_type": "stream",
          "name": "stdout",
          "text": [
            "(242, 18)\n"
          ]
        },
        {
          "output_type": "execute_result",
          "data": {
            "text/plain": [
              "         Beverage_category       Beverage      Beverage_prep  Calories  \\\n",
              "0                   Coffee  Brewed Coffee              Short         3   \n",
              "1                   Coffee  Brewed Coffee               Tall         4   \n",
              "2                   Coffee  Brewed Coffee             Grande         5   \n",
              "3                   Coffee  Brewed Coffee              Venti         5   \n",
              "4  Classic Espresso Drinks    Caffè Latte  Short Nonfat Milk        70   \n",
              "\n",
              "   Total Fat (g)  Trans Fat (g)   Saturated Fat (g)   Sodium (mg)  \\\n",
              "0            0.1             0.0                0.0             0   \n",
              "1            0.1             0.0                0.0             0   \n",
              "2            0.1             0.0                0.0             0   \n",
              "3            0.1             0.0                0.0             0   \n",
              "4            0.1             0.1                0.0             5   \n",
              "\n",
              "    Total Carbohydrates (g)   Cholesterol (mg)   Dietary Fibre (g)  \\\n",
              "0                          5                 0                   0   \n",
              "1                         10                 0                   0   \n",
              "2                         10                 0                   0   \n",
              "3                         10                 0                   0   \n",
              "4                         75                10                   0   \n",
              "\n",
              "    Sugars (g)   Protein (g)  Vitamin A (% DV)  Vitamin C (% DV)  \\\n",
              "0            0            0.3                0%               0%   \n",
              "1            0            0.5                0%               0%   \n",
              "2            0            1.0                0%               0%   \n",
              "3            0            1.0                0%               0%   \n",
              "4            9            6.0               10%               0%   \n",
              "\n",
              "   Calcium (% DV)  Iron (% DV)  Caffeine (mg)  \n",
              "0               0%           0%           175  \n",
              "1               0%           0%           260  \n",
              "2               0%           0%           330  \n",
              "3               2%           0%           410  \n",
              "4              20%           0%            75  "
            ],
            "text/html": [
              "\n",
              "  <div id=\"df-0b0e3190-f41e-4aeb-ad3e-d15da278fa5d\">\n",
              "    <div class=\"colab-df-container\">\n",
              "      <div>\n",
              "<style scoped>\n",
              "    .dataframe tbody tr th:only-of-type {\n",
              "        vertical-align: middle;\n",
              "    }\n",
              "\n",
              "    .dataframe tbody tr th {\n",
              "        vertical-align: top;\n",
              "    }\n",
              "\n",
              "    .dataframe thead th {\n",
              "        text-align: right;\n",
              "    }\n",
              "</style>\n",
              "<table border=\"1\" class=\"dataframe\">\n",
              "  <thead>\n",
              "    <tr style=\"text-align: right;\">\n",
              "      <th></th>\n",
              "      <th>Beverage_category</th>\n",
              "      <th>Beverage</th>\n",
              "      <th>Beverage_prep</th>\n",
              "      <th>Calories</th>\n",
              "      <th>Total Fat (g)</th>\n",
              "      <th>Trans Fat (g)</th>\n",
              "      <th>Saturated Fat (g)</th>\n",
              "      <th>Sodium (mg)</th>\n",
              "      <th>Total Carbohydrates (g)</th>\n",
              "      <th>Cholesterol (mg)</th>\n",
              "      <th>Dietary Fibre (g)</th>\n",
              "      <th>Sugars (g)</th>\n",
              "      <th>Protein (g)</th>\n",
              "      <th>Vitamin A (% DV)</th>\n",
              "      <th>Vitamin C (% DV)</th>\n",
              "      <th>Calcium (% DV)</th>\n",
              "      <th>Iron (% DV)</th>\n",
              "      <th>Caffeine (mg)</th>\n",
              "    </tr>\n",
              "  </thead>\n",
              "  <tbody>\n",
              "    <tr>\n",
              "      <th>0</th>\n",
              "      <td>Coffee</td>\n",
              "      <td>Brewed Coffee</td>\n",
              "      <td>Short</td>\n",
              "      <td>3</td>\n",
              "      <td>0.1</td>\n",
              "      <td>0.0</td>\n",
              "      <td>0.0</td>\n",
              "      <td>0</td>\n",
              "      <td>5</td>\n",
              "      <td>0</td>\n",
              "      <td>0</td>\n",
              "      <td>0</td>\n",
              "      <td>0.3</td>\n",
              "      <td>0%</td>\n",
              "      <td>0%</td>\n",
              "      <td>0%</td>\n",
              "      <td>0%</td>\n",
              "      <td>175</td>\n",
              "    </tr>\n",
              "    <tr>\n",
              "      <th>1</th>\n",
              "      <td>Coffee</td>\n",
              "      <td>Brewed Coffee</td>\n",
              "      <td>Tall</td>\n",
              "      <td>4</td>\n",
              "      <td>0.1</td>\n",
              "      <td>0.0</td>\n",
              "      <td>0.0</td>\n",
              "      <td>0</td>\n",
              "      <td>10</td>\n",
              "      <td>0</td>\n",
              "      <td>0</td>\n",
              "      <td>0</td>\n",
              "      <td>0.5</td>\n",
              "      <td>0%</td>\n",
              "      <td>0%</td>\n",
              "      <td>0%</td>\n",
              "      <td>0%</td>\n",
              "      <td>260</td>\n",
              "    </tr>\n",
              "    <tr>\n",
              "      <th>2</th>\n",
              "      <td>Coffee</td>\n",
              "      <td>Brewed Coffee</td>\n",
              "      <td>Grande</td>\n",
              "      <td>5</td>\n",
              "      <td>0.1</td>\n",
              "      <td>0.0</td>\n",
              "      <td>0.0</td>\n",
              "      <td>0</td>\n",
              "      <td>10</td>\n",
              "      <td>0</td>\n",
              "      <td>0</td>\n",
              "      <td>0</td>\n",
              "      <td>1.0</td>\n",
              "      <td>0%</td>\n",
              "      <td>0%</td>\n",
              "      <td>0%</td>\n",
              "      <td>0%</td>\n",
              "      <td>330</td>\n",
              "    </tr>\n",
              "    <tr>\n",
              "      <th>3</th>\n",
              "      <td>Coffee</td>\n",
              "      <td>Brewed Coffee</td>\n",
              "      <td>Venti</td>\n",
              "      <td>5</td>\n",
              "      <td>0.1</td>\n",
              "      <td>0.0</td>\n",
              "      <td>0.0</td>\n",
              "      <td>0</td>\n",
              "      <td>10</td>\n",
              "      <td>0</td>\n",
              "      <td>0</td>\n",
              "      <td>0</td>\n",
              "      <td>1.0</td>\n",
              "      <td>0%</td>\n",
              "      <td>0%</td>\n",
              "      <td>2%</td>\n",
              "      <td>0%</td>\n",
              "      <td>410</td>\n",
              "    </tr>\n",
              "    <tr>\n",
              "      <th>4</th>\n",
              "      <td>Classic Espresso Drinks</td>\n",
              "      <td>Caffè Latte</td>\n",
              "      <td>Short Nonfat Milk</td>\n",
              "      <td>70</td>\n",
              "      <td>0.1</td>\n",
              "      <td>0.1</td>\n",
              "      <td>0.0</td>\n",
              "      <td>5</td>\n",
              "      <td>75</td>\n",
              "      <td>10</td>\n",
              "      <td>0</td>\n",
              "      <td>9</td>\n",
              "      <td>6.0</td>\n",
              "      <td>10%</td>\n",
              "      <td>0%</td>\n",
              "      <td>20%</td>\n",
              "      <td>0%</td>\n",
              "      <td>75</td>\n",
              "    </tr>\n",
              "  </tbody>\n",
              "</table>\n",
              "</div>\n",
              "      <button class=\"colab-df-convert\" onclick=\"convertToInteractive('df-0b0e3190-f41e-4aeb-ad3e-d15da278fa5d')\"\n",
              "              title=\"Convert this dataframe to an interactive table.\"\n",
              "              style=\"display:none;\">\n",
              "        \n",
              "  <svg xmlns=\"http://www.w3.org/2000/svg\" height=\"24px\"viewBox=\"0 0 24 24\"\n",
              "       width=\"24px\">\n",
              "    <path d=\"M0 0h24v24H0V0z\" fill=\"none\"/>\n",
              "    <path d=\"M18.56 5.44l.94 2.06.94-2.06 2.06-.94-2.06-.94-.94-2.06-.94 2.06-2.06.94zm-11 1L8.5 8.5l.94-2.06 2.06-.94-2.06-.94L8.5 2.5l-.94 2.06-2.06.94zm10 10l.94 2.06.94-2.06 2.06-.94-2.06-.94-.94-2.06-.94 2.06-2.06.94z\"/><path d=\"M17.41 7.96l-1.37-1.37c-.4-.4-.92-.59-1.43-.59-.52 0-1.04.2-1.43.59L10.3 9.45l-7.72 7.72c-.78.78-.78 2.05 0 2.83L4 21.41c.39.39.9.59 1.41.59.51 0 1.02-.2 1.41-.59l7.78-7.78 2.81-2.81c.8-.78.8-2.07 0-2.86zM5.41 20L4 18.59l7.72-7.72 1.47 1.35L5.41 20z\"/>\n",
              "  </svg>\n",
              "      </button>\n",
              "      \n",
              "  <style>\n",
              "    .colab-df-container {\n",
              "      display:flex;\n",
              "      flex-wrap:wrap;\n",
              "      gap: 12px;\n",
              "    }\n",
              "\n",
              "    .colab-df-convert {\n",
              "      background-color: #E8F0FE;\n",
              "      border: none;\n",
              "      border-radius: 50%;\n",
              "      cursor: pointer;\n",
              "      display: none;\n",
              "      fill: #1967D2;\n",
              "      height: 32px;\n",
              "      padding: 0 0 0 0;\n",
              "      width: 32px;\n",
              "    }\n",
              "\n",
              "    .colab-df-convert:hover {\n",
              "      background-color: #E2EBFA;\n",
              "      box-shadow: 0px 1px 2px rgba(60, 64, 67, 0.3), 0px 1px 3px 1px rgba(60, 64, 67, 0.15);\n",
              "      fill: #174EA6;\n",
              "    }\n",
              "\n",
              "    [theme=dark] .colab-df-convert {\n",
              "      background-color: #3B4455;\n",
              "      fill: #D2E3FC;\n",
              "    }\n",
              "\n",
              "    [theme=dark] .colab-df-convert:hover {\n",
              "      background-color: #434B5C;\n",
              "      box-shadow: 0px 1px 3px 1px rgba(0, 0, 0, 0.15);\n",
              "      filter: drop-shadow(0px 1px 2px rgba(0, 0, 0, 0.3));\n",
              "      fill: #FFFFFF;\n",
              "    }\n",
              "  </style>\n",
              "\n",
              "      <script>\n",
              "        const buttonEl =\n",
              "          document.querySelector('#df-0b0e3190-f41e-4aeb-ad3e-d15da278fa5d button.colab-df-convert');\n",
              "        buttonEl.style.display =\n",
              "          google.colab.kernel.accessAllowed ? 'block' : 'none';\n",
              "\n",
              "        async function convertToInteractive(key) {\n",
              "          const element = document.querySelector('#df-0b0e3190-f41e-4aeb-ad3e-d15da278fa5d');\n",
              "          const dataTable =\n",
              "            await google.colab.kernel.invokeFunction('convertToInteractive',\n",
              "                                                     [key], {});\n",
              "          if (!dataTable) return;\n",
              "\n",
              "          const docLinkHtml = 'Like what you see? Visit the ' +\n",
              "            '<a target=\"_blank\" href=https://colab.research.google.com/notebooks/data_table.ipynb>data table notebook</a>'\n",
              "            + ' to learn more about interactive tables.';\n",
              "          element.innerHTML = '';\n",
              "          dataTable['output_type'] = 'display_data';\n",
              "          await google.colab.output.renderOutput(dataTable, element);\n",
              "          const docLink = document.createElement('div');\n",
              "          docLink.innerHTML = docLinkHtml;\n",
              "          element.appendChild(docLink);\n",
              "        }\n",
              "      </script>\n",
              "    </div>\n",
              "  </div>\n",
              "  "
            ]
          },
          "metadata": {},
          "execution_count": 62
        }
      ]
    },
    {
      "cell_type": "markdown",
      "source": [
        "Import sqlite3 for create Databse"
      ],
      "metadata": {
        "id": "1JdQARH-YPFx"
      }
    },
    {
      "cell_type": "code",
      "source": [
        "import sqlite3\n",
        "conn = sqlite3.connect('my_data.db')\n",
        "c = conn.cursor()"
      ],
      "metadata": {
        "id": "bQSgnOQJ5iT2"
      },
      "execution_count": 63,
      "outputs": []
    },
    {
      "cell_type": "markdown",
      "source": [
        "Convert CSV file to be a table in \"my_data.db\""
      ],
      "metadata": {
        "id": "18_8x0nnYfYR"
      }
    },
    {
      "cell_type": "code",
      "source": [
        "df.to_sql('df', conn, if_exists='append', index = False)"
      ],
      "metadata": {
        "colab": {
          "base_uri": "https://localhost:8080/"
        },
        "id": "jo7_tfBz646a",
        "outputId": "44764082-ff4c-4ba5-9e6f-8370216c81e8"
      },
      "execution_count": 64,
      "outputs": [
        {
          "output_type": "stream",
          "name": "stderr",
          "text": [
            "/usr/local/lib/python3.7/dist-packages/pandas/core/generic.py:2882: UserWarning: The spaces in these column names will not be changed. In pandas versions < 0.14, spaces were converted to underscores.\n",
            "  method=method,\n"
          ]
        }
      ]
    },
    {
      "cell_type": "markdown",
      "source": [
        "**Which drink has the highest calories from the dataset ?**"
      ],
      "metadata": {
        "id": "xnIvou_7YoDX"
      }
    },
    {
      "cell_type": "code",
      "source": [
        "# 1. Which drink has the highest calories from the dataset ?\n",
        "c.execute('''SELECT Beverage,Max(Calories) FROM df  ''').fetchall()"
      ],
      "metadata": {
        "colab": {
          "base_uri": "https://localhost:8080/"
        },
        "id": "aVjrkNOn7Q2a",
        "outputId": "2141718c-5724-4dc5-8bb7-587cbdc868bc"
      },
      "execution_count": 65,
      "outputs": [
        {
          "output_type": "execute_result",
          "data": {
            "text/plain": [
              "[('White Chocolate Mocha (Without Whipped Cream)', 510)]"
            ]
          },
          "metadata": {},
          "execution_count": 65
        }
      ]
    },
    {
      "cell_type": "markdown",
      "source": [
        "**2. What is the average calorie amount for each drink category ?**"
      ],
      "metadata": {
        "id": "NNpAR0ALYuGw"
      }
    },
    {
      "cell_type": "code",
      "source": [
        "# 2. What is the average calorie amount for each drink category ?\n",
        "c.execute('''SELECT Beverage_category,avg(Calories) FROM df\n",
        "group by Beverage_category''').fetchall()"
      ],
      "metadata": {
        "colab": {
          "base_uri": "https://localhost:8080/"
        },
        "id": "HpeEcia47z9l",
        "outputId": "62800a41-70a5-4d09-fe34-14be0e799983"
      },
      "execution_count": 66,
      "outputs": [
        {
          "output_type": "execute_result",
          "data": {
            "text/plain": [
              "[('Classic Espresso Drinks', 140.17241379310346),\n",
              " ('Coffee', 4.25),\n",
              " ('Frappuccino® Blended Coffee', 276.94444444444446),\n",
              " ('Frappuccino® Blended Crème', 233.07692307692307),\n",
              " ('Frappuccino® Light Blended Coffee', 162.5),\n",
              " ('Shaken Iced Beverages', 114.44444444444444),\n",
              " ('Signature Espresso Drinks', 250.0),\n",
              " ('Smoothies', 282.22222222222223),\n",
              " ('Tazo® Tea Drinks', 177.30769230769232)]"
            ]
          },
          "metadata": {},
          "execution_count": 66
        }
      ]
    },
    {
      "cell_type": "markdown",
      "source": [
        "**3. Which drinks have below average calorie amount ?**"
      ],
      "metadata": {
        "id": "ZYVvaOWWY1gI"
      }
    },
    {
      "cell_type": "code",
      "source": [
        "c.execute('''select Beverage,Beverage_prep ,Calories\n",
        "from df\n",
        "inner join\n",
        "(select beverage a , Avg(calories) b from df\n",
        "group by beverage) \n",
        "ON a = beverage\n",
        "where calories < b''').fetchall()"
      ],
      "metadata": {
        "colab": {
          "base_uri": "https://localhost:8080/"
        },
        "id": "rI8IEIYv9SE9",
        "outputId": "c7a7b8d1-2b2b-4072-831c-f82a960ff0b5"
      },
      "execution_count": 67,
      "outputs": [
        {
          "output_type": "execute_result",
          "data": {
            "text/plain": [
              "[('Brewed Coffee', 'Short', 3),\n",
              " ('Brewed Coffee', 'Tall', 4),\n",
              " ('Caffè Latte', 'Short Nonfat Milk', 70),\n",
              " ('Caffè Latte', '2% Milk', 100),\n",
              " ('Caffè Latte', 'Soymilk', 70),\n",
              " ('Caffè Latte', 'Tall Nonfat Milk', 100),\n",
              " ('Caffè Latte', 'Soymilk', 110),\n",
              " ('Caffè Latte', 'Grande Nonfat Milk', 130),\n",
              " ('Caffè Mocha (Without Whipped Cream)', 'Short Nonfat Milk', 110),\n",
              " ('Caffè Mocha (Without Whipped Cream)', '2% Milk', 130),\n",
              " ('Caffè Mocha (Without Whipped Cream)', 'Soymilk', 110),\n",
              " ('Caffè Mocha (Without Whipped Cream)', 'Tall Nonfat Milk', 170),\n",
              " ('Caffè Mocha (Without Whipped Cream)', '2% Milk', 200),\n",
              " ('Caffè Mocha (Without Whipped Cream)', 'Soymilk', 180),\n",
              " ('Vanilla Latte (Or Other Flavoured Latte)', 'Short Nonfat Milk', 100),\n",
              " ('Vanilla Latte (Or Other Flavoured Latte)', '2% Milk', 130),\n",
              " ('Vanilla Latte (Or Other Flavoured Latte)', 'Soymilk', 110),\n",
              " ('Vanilla Latte (Or Other Flavoured Latte)', 'Tall Nonfat Milk', 150),\n",
              " ('Vanilla Latte (Or Other Flavoured Latte)', 'Soymilk', 160),\n",
              " ('Caffè Americano', 'Short', 5),\n",
              " ('Caffè Americano', 'Tall', 10),\n",
              " ('Cappuccino', 'Short Nonfat Milk', 50),\n",
              " ('Cappuccino', '2% Milk', 80),\n",
              " ('Cappuccino', 'Soymilk', 50),\n",
              " ('Cappuccino', 'Tall Nonfat Milk', 60),\n",
              " ('Cappuccino', 'Soymilk', 70),\n",
              " ('Cappuccino', 'Grande Nonfat Milk', 80),\n",
              " ('Espresso', 'Solo', 5),\n",
              " ('Skinny Latte (Any Flavour)', 'Short Nonfat Milk', 60),\n",
              " ('Skinny Latte (Any Flavour)', 'Tall Nonfat Milk', 100),\n",
              " ('Caramel Macchiato', 'Short Nonfat Milk', 100),\n",
              " ('Caramel Macchiato', '2% Milk', 120),\n",
              " ('Caramel Macchiato', 'Soymilk', 100),\n",
              " ('Caramel Macchiato', 'Tall Nonfat Milk', 140),\n",
              " ('Caramel Macchiato', '2% Milk', 180),\n",
              " ('Caramel Macchiato', 'Soymilk', 150),\n",
              " ('White Chocolate Mocha (Without Whipped Cream)', 'Short Nonfat Milk', 180),\n",
              " ('White Chocolate Mocha (Without Whipped Cream)', '2% Milk', 200),\n",
              " ('White Chocolate Mocha (Without Whipped Cream)', 'Soymilk', 180),\n",
              " ('White Chocolate Mocha (Without Whipped Cream)', 'Tall Nonfat Milk', 270),\n",
              " ('White Chocolate Mocha (Without Whipped Cream)', '2% Milk', 310),\n",
              " ('White Chocolate Mocha (Without Whipped Cream)', 'Soymilk', 280),\n",
              " ('Hot Chocolate (Without Whipped Cream)', 'Short Nonfat Milk', 130),\n",
              " ('Hot Chocolate (Without Whipped Cream)', '2% Milk', 150),\n",
              " ('Hot Chocolate (Without Whipped Cream)', 'Soymilk', 130),\n",
              " ('Hot Chocolate (Without Whipped Cream)', 'Tall Nonfat Milk', 190),\n",
              " ('Hot Chocolate (Without Whipped Cream)', '2% Milk', 230),\n",
              " ('Hot Chocolate (Without Whipped Cream)', 'Soymilk', 200),\n",
              " ('Caramel Apple Spice (Without Whipped Cream)', 'Short', 140),\n",
              " ('Caramel Apple Spice (Without Whipped Cream)', 'Tall', 210),\n",
              " ('Tazo® Chai Tea Latte', 'Short Nonfat Milk', 100),\n",
              " ('Tazo® Chai Tea Latte', '2% Milk', 120),\n",
              " ('Tazo® Chai Tea Latte', 'Soymilk', 110),\n",
              " ('Tazo® Chai Tea Latte', 'Tall Nonfat Milk', 160),\n",
              " ('Tazo® Chai Tea Latte', '2% Milk', 190),\n",
              " ('Tazo® Chai Tea Latte', 'Soymilk', 160),\n",
              " ('Tazo® Green Tea Latte', 'Short Nonfat Milk', 130),\n",
              " ('Tazo® Green Tea Latte', '2% Milk', 170),\n",
              " ('Tazo® Green Tea Latte', 'Soymilk', 140),\n",
              " ('Tazo® Green Tea Latte', 'Tall Nonfat Milk', 210),\n",
              " ('Tazo® Green Tea Latte', '2% Milk', 260),\n",
              " ('Tazo® Green Tea Latte', 'Soymilk', 230),\n",
              " ('Tazo® Full-Leaf Tea Latte', 'Short Nonfat Milk', 80),\n",
              " ('Tazo® Full-Leaf Tea Latte', '2% Milk', 90),\n",
              " ('Tazo® Full-Leaf Tea Latte', 'Soymilk', 80),\n",
              " ('Tazo® Full-Leaf Tea Latte', 'Tall Nonfat Milk', 120),\n",
              " ('Tazo® Full-Leaf Tea Latte', '2% Milk', 140),\n",
              " ('Tazo® Full-Leaf Tea Latte', 'Soymilk', 130),\n",
              " ('Tazo® Full-Leaf Red Tea Latte (Vanilla Rooibos)', 'Short Nonfat Milk', 80),\n",
              " ('Tazo® Full-Leaf Red Tea Latte (Vanilla Rooibos)', '2% Milk', 90),\n",
              " ('Tazo® Full-Leaf Red Tea Latte (Vanilla Rooibos)', 'Soymilk', 80),\n",
              " ('Tazo® Full-Leaf Red Tea Latte (Vanilla Rooibos)', 'Tall Nonfat Milk', 120),\n",
              " ('Tazo® Full-Leaf Red Tea Latte (Vanilla Rooibos)', '2% Milk', 140),\n",
              " ('Tazo® Full-Leaf Red Tea Latte (Vanilla Rooibos)', 'Soymilk', 130),\n",
              " ('Iced Brewed Coffee (With Classic Syrup)', 'Tall', 60),\n",
              " ('Iced Brewed Coffee (With Classic Syrup)', 'Grande', 90),\n",
              " ('Iced Brewed Coffee (With Milk & Classic Syrup)', 'Tall Nonfat Milk', 80),\n",
              " ('Iced Brewed Coffee (With Milk & Classic Syrup)', '2% Milk', 90),\n",
              " ('Iced Brewed Coffee (With Milk & Classic Syrup)', 'Soymilk', 80),\n",
              " ('Iced Brewed Coffee (With Milk & Classic Syrup)', 'Grande Nonfat Milk', 110),\n",
              " ('Iced Brewed Coffee (With Milk & Classic Syrup)', '2% Milk', 120),\n",
              " ('Iced Brewed Coffee (With Milk & Classic Syrup)', 'Soymilk', 110),\n",
              " ('Shaken Iced Tazo® Tea (With Classic Syrup)', 'Tall', 60),\n",
              " ('Shaken Iced Tazo® Tea (With Classic Syrup)', 'Grande', 80),\n",
              " ('Shaken Iced Tazo® Tea Lemonade (With Classic Syrup)', 'Tall', 100),\n",
              " ('Shaken Iced Tazo® Tea Lemonade (With Classic Syrup)', 'Grande', 130),\n",
              " ('Banana Chocolate Smoothie', 'Grande Nonfat Milk', 280),\n",
              " ('Orange Mango Banana Smoothie', 'Grande Nonfat Milk', 260),\n",
              " ('Coffee', 'Tall Nonfat Milk', 160),\n",
              " ('Coffee', 'Whole Milk', 180),\n",
              " ('Coffee', 'Soymilk', 160),\n",
              " ('Mocha (Without Whipped Cream)', 'Tall Nonfat Milk', 180),\n",
              " ('Mocha (Without Whipped Cream)', 'Whole Milk', 200),\n",
              " ('Mocha (Without Whipped Cream)', 'Soymilk', 180),\n",
              " ('Mocha (Without Whipped Cream)', 'Grande Nonfat Milk', 260),\n",
              " ('Mocha (Without Whipped Cream)', 'Soymilk', 260),\n",
              " ('Caramel (Without Whipped Cream)', 'Tall Nonfat Milk', 180),\n",
              " ('Caramel (Without Whipped Cream)', 'Whole Milk', 200),\n",
              " ('Caramel (Without Whipped Cream)', 'Soymilk', 180),\n",
              " ('Caramel (Without Whipped Cream)', 'Soymilk', 260),\n",
              " ('Java Chip (Without Whipped Cream)', 'Tall Nonfat Milk', 220),\n",
              " ('Java Chip (Without Whipped Cream)', 'Whole Milk', 240),\n",
              " ('Java Chip (Without Whipped Cream)', 'Soymilk', 220),\n",
              " ('Java Chip (Without Whipped Cream)', 'Grande Nonfat Milk', 310),\n",
              " ('Java Chip (Without Whipped Cream)', 'Soymilk', 310),\n",
              " ('Coffee', 'Tall Nonfat Milk', 90),\n",
              " ('Coffee', 'Grande Nonfat Milk', 120),\n",
              " ('Coffee', 'Venti Nonfat Milk', 160),\n",
              " ('Mocha', 'Tall Nonfat Milk', 110),\n",
              " ('Mocha', 'Grande Nonfat Milk', 150),\n",
              " ('Caramel', 'Tall Nonfat Milk', 100),\n",
              " ('Java Chip', 'Tall Nonfat Milk', 150),\n",
              " ('Strawberries & Crème (Without Whipped Cream)', 'Tall Nonfat Milk', 170),\n",
              " ('Strawberries & Crème (Without Whipped Cream)', 'Whole Milk', 190),\n",
              " ('Strawberries & Crème (Without Whipped Cream)', 'Soymilk', 170),\n",
              " ('Strawberries & Crème (Without Whipped Cream)', 'Grande Nonfat Milk', 230),\n",
              " ('Strawberries & Crème (Without Whipped Cream)', 'Soymilk', 240),\n",
              " ('Vanilla Bean (Without Whipped Cream)', 'Tall Nonfat Milk', 170),\n",
              " ('Vanilla Bean (Without Whipped Cream)', 'Soymilk', 180),\n",
              " ('Brewed Coffee', 'Short', 3),\n",
              " ('Brewed Coffee', 'Tall', 4),\n",
              " ('Caffè Latte', 'Short Nonfat Milk', 70),\n",
              " ('Caffè Latte', '2% Milk', 100),\n",
              " ('Caffè Latte', 'Soymilk', 70),\n",
              " ('Caffè Latte', 'Tall Nonfat Milk', 100),\n",
              " ('Caffè Latte', 'Soymilk', 110),\n",
              " ('Caffè Latte', 'Grande Nonfat Milk', 130),\n",
              " ('Caffè Mocha (Without Whipped Cream)', 'Short Nonfat Milk', 110),\n",
              " ('Caffè Mocha (Without Whipped Cream)', '2% Milk', 130),\n",
              " ('Caffè Mocha (Without Whipped Cream)', 'Soymilk', 110),\n",
              " ('Caffè Mocha (Without Whipped Cream)', 'Tall Nonfat Milk', 170),\n",
              " ('Caffè Mocha (Without Whipped Cream)', '2% Milk', 200),\n",
              " ('Caffè Mocha (Without Whipped Cream)', 'Soymilk', 180),\n",
              " ('Vanilla Latte (Or Other Flavoured Latte)', 'Short Nonfat Milk', 100),\n",
              " ('Vanilla Latte (Or Other Flavoured Latte)', '2% Milk', 130),\n",
              " ('Vanilla Latte (Or Other Flavoured Latte)', 'Soymilk', 110),\n",
              " ('Vanilla Latte (Or Other Flavoured Latte)', 'Tall Nonfat Milk', 150),\n",
              " ('Vanilla Latte (Or Other Flavoured Latte)', 'Soymilk', 160),\n",
              " ('Caffè Americano', 'Short', 5),\n",
              " ('Caffè Americano', 'Tall', 10),\n",
              " ('Cappuccino', 'Short Nonfat Milk', 50),\n",
              " ('Cappuccino', '2% Milk', 80),\n",
              " ('Cappuccino', 'Soymilk', 50),\n",
              " ('Cappuccino', 'Tall Nonfat Milk', 60),\n",
              " ('Cappuccino', 'Soymilk', 70),\n",
              " ('Cappuccino', 'Grande Nonfat Milk', 80),\n",
              " ('Espresso', 'Solo', 5),\n",
              " ('Skinny Latte (Any Flavour)', 'Short Nonfat Milk', 60),\n",
              " ('Skinny Latte (Any Flavour)', 'Tall Nonfat Milk', 100),\n",
              " ('Caramel Macchiato', 'Short Nonfat Milk', 100),\n",
              " ('Caramel Macchiato', '2% Milk', 120),\n",
              " ('Caramel Macchiato', 'Soymilk', 100),\n",
              " ('Caramel Macchiato', 'Tall Nonfat Milk', 140),\n",
              " ('Caramel Macchiato', '2% Milk', 180),\n",
              " ('Caramel Macchiato', 'Soymilk', 150),\n",
              " ('White Chocolate Mocha (Without Whipped Cream)', 'Short Nonfat Milk', 180),\n",
              " ('White Chocolate Mocha (Without Whipped Cream)', '2% Milk', 200),\n",
              " ('White Chocolate Mocha (Without Whipped Cream)', 'Soymilk', 180),\n",
              " ('White Chocolate Mocha (Without Whipped Cream)', 'Tall Nonfat Milk', 270),\n",
              " ('White Chocolate Mocha (Without Whipped Cream)', '2% Milk', 310),\n",
              " ('White Chocolate Mocha (Without Whipped Cream)', 'Soymilk', 280),\n",
              " ('Hot Chocolate (Without Whipped Cream)', 'Short Nonfat Milk', 130),\n",
              " ('Hot Chocolate (Without Whipped Cream)', '2% Milk', 150),\n",
              " ('Hot Chocolate (Without Whipped Cream)', 'Soymilk', 130),\n",
              " ('Hot Chocolate (Without Whipped Cream)', 'Tall Nonfat Milk', 190),\n",
              " ('Hot Chocolate (Without Whipped Cream)', '2% Milk', 230),\n",
              " ('Hot Chocolate (Without Whipped Cream)', 'Soymilk', 200),\n",
              " ('Caramel Apple Spice (Without Whipped Cream)', 'Short', 140),\n",
              " ('Caramel Apple Spice (Without Whipped Cream)', 'Tall', 210),\n",
              " ('Tazo® Chai Tea Latte', 'Short Nonfat Milk', 100),\n",
              " ('Tazo® Chai Tea Latte', '2% Milk', 120),\n",
              " ('Tazo® Chai Tea Latte', 'Soymilk', 110),\n",
              " ('Tazo® Chai Tea Latte', 'Tall Nonfat Milk', 160),\n",
              " ('Tazo® Chai Tea Latte', '2% Milk', 190),\n",
              " ('Tazo® Chai Tea Latte', 'Soymilk', 160),\n",
              " ('Tazo® Green Tea Latte', 'Short Nonfat Milk', 130),\n",
              " ('Tazo® Green Tea Latte', '2% Milk', 170),\n",
              " ('Tazo® Green Tea Latte', 'Soymilk', 140),\n",
              " ('Tazo® Green Tea Latte', 'Tall Nonfat Milk', 210),\n",
              " ('Tazo® Green Tea Latte', '2% Milk', 260),\n",
              " ('Tazo® Green Tea Latte', 'Soymilk', 230),\n",
              " ('Tazo® Full-Leaf Tea Latte', 'Short Nonfat Milk', 80),\n",
              " ('Tazo® Full-Leaf Tea Latte', '2% Milk', 90),\n",
              " ('Tazo® Full-Leaf Tea Latte', 'Soymilk', 80),\n",
              " ('Tazo® Full-Leaf Tea Latte', 'Tall Nonfat Milk', 120),\n",
              " ('Tazo® Full-Leaf Tea Latte', '2% Milk', 140),\n",
              " ('Tazo® Full-Leaf Tea Latte', 'Soymilk', 130),\n",
              " ('Tazo® Full-Leaf Red Tea Latte (Vanilla Rooibos)', 'Short Nonfat Milk', 80),\n",
              " ('Tazo® Full-Leaf Red Tea Latte (Vanilla Rooibos)', '2% Milk', 90),\n",
              " ('Tazo® Full-Leaf Red Tea Latte (Vanilla Rooibos)', 'Soymilk', 80),\n",
              " ('Tazo® Full-Leaf Red Tea Latte (Vanilla Rooibos)', 'Tall Nonfat Milk', 120),\n",
              " ('Tazo® Full-Leaf Red Tea Latte (Vanilla Rooibos)', '2% Milk', 140),\n",
              " ('Tazo® Full-Leaf Red Tea Latte (Vanilla Rooibos)', 'Soymilk', 130),\n",
              " ('Iced Brewed Coffee (With Classic Syrup)', 'Tall', 60),\n",
              " ('Iced Brewed Coffee (With Classic Syrup)', 'Grande', 90),\n",
              " ('Iced Brewed Coffee (With Milk & Classic Syrup)', 'Tall Nonfat Milk', 80),\n",
              " ('Iced Brewed Coffee (With Milk & Classic Syrup)', '2% Milk', 90),\n",
              " ('Iced Brewed Coffee (With Milk & Classic Syrup)', 'Soymilk', 80),\n",
              " ('Iced Brewed Coffee (With Milk & Classic Syrup)', 'Grande Nonfat Milk', 110),\n",
              " ('Iced Brewed Coffee (With Milk & Classic Syrup)', '2% Milk', 120),\n",
              " ('Iced Brewed Coffee (With Milk & Classic Syrup)', 'Soymilk', 110),\n",
              " ('Shaken Iced Tazo® Tea (With Classic Syrup)', 'Tall', 60),\n",
              " ('Shaken Iced Tazo® Tea (With Classic Syrup)', 'Grande', 80),\n",
              " ('Shaken Iced Tazo® Tea Lemonade (With Classic Syrup)', 'Tall', 100),\n",
              " ('Shaken Iced Tazo® Tea Lemonade (With Classic Syrup)', 'Grande', 130),\n",
              " ('Banana Chocolate Smoothie', 'Grande Nonfat Milk', 280),\n",
              " ('Orange Mango Banana Smoothie', 'Grande Nonfat Milk', 260),\n",
              " ('Coffee', 'Tall Nonfat Milk', 160),\n",
              " ('Coffee', 'Whole Milk', 180),\n",
              " ('Coffee', 'Soymilk', 160),\n",
              " ('Mocha (Without Whipped Cream)', 'Tall Nonfat Milk', 180),\n",
              " ('Mocha (Without Whipped Cream)', 'Whole Milk', 200),\n",
              " ('Mocha (Without Whipped Cream)', 'Soymilk', 180),\n",
              " ('Mocha (Without Whipped Cream)', 'Grande Nonfat Milk', 260),\n",
              " ('Mocha (Without Whipped Cream)', 'Soymilk', 260),\n",
              " ('Caramel (Without Whipped Cream)', 'Tall Nonfat Milk', 180),\n",
              " ('Caramel (Without Whipped Cream)', 'Whole Milk', 200),\n",
              " ('Caramel (Without Whipped Cream)', 'Soymilk', 180),\n",
              " ('Caramel (Without Whipped Cream)', 'Soymilk', 260),\n",
              " ('Java Chip (Without Whipped Cream)', 'Tall Nonfat Milk', 220),\n",
              " ('Java Chip (Without Whipped Cream)', 'Whole Milk', 240),\n",
              " ('Java Chip (Without Whipped Cream)', 'Soymilk', 220),\n",
              " ('Java Chip (Without Whipped Cream)', 'Grande Nonfat Milk', 310),\n",
              " ('Java Chip (Without Whipped Cream)', 'Soymilk', 310),\n",
              " ('Coffee', 'Tall Nonfat Milk', 90),\n",
              " ('Coffee', 'Grande Nonfat Milk', 120),\n",
              " ('Coffee', 'Venti Nonfat Milk', 160),\n",
              " ('Mocha', 'Tall Nonfat Milk', 110),\n",
              " ('Mocha', 'Grande Nonfat Milk', 150),\n",
              " ('Caramel', 'Tall Nonfat Milk', 100),\n",
              " ('Java Chip', 'Tall Nonfat Milk', 150),\n",
              " ('Strawberries & Crème (Without Whipped Cream)', 'Tall Nonfat Milk', 170),\n",
              " ('Strawberries & Crème (Without Whipped Cream)', 'Whole Milk', 190),\n",
              " ('Strawberries & Crème (Without Whipped Cream)', 'Soymilk', 170),\n",
              " ('Strawberries & Crème (Without Whipped Cream)', 'Grande Nonfat Milk', 230),\n",
              " ('Strawberries & Crème (Without Whipped Cream)', 'Soymilk', 240),\n",
              " ('Vanilla Bean (Without Whipped Cream)', 'Tall Nonfat Milk', 170),\n",
              " ('Vanilla Bean (Without Whipped Cream)', 'Soymilk', 180)]"
            ]
          },
          "metadata": {},
          "execution_count": 67
        }
      ]
    },
    {
      "cell_type": "code",
      "source": [
        ""
      ],
      "metadata": {
        "id": "CFDB4-my94_u"
      },
      "execution_count": null,
      "outputs": []
    }
  ]
}